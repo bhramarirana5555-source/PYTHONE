{
  "nbformat": 4,
  "nbformat_minor": 0,
  "metadata": {
    "colab": {
      "provenance": [],
      "toc_visible": true
    },
    "kernelspec": {
      "name": "python3",
      "display_name": "Python 3"
    },
    "language_info": {
      "name": "python"
    }
  },
  "cells": [
    {
      "cell_type": "code",
      "execution_count": null,
      "metadata": {
        "id": "3Lf0_ouBcy89"
      },
      "outputs": [],
      "source": []
    },
    {
      "cell_type": "markdown",
      "source": [
        "**ASSIGNMENT 1 : BASIC OF PYTHON**\n"
      ],
      "metadata": {
        "id": "cBPof9QAfPq7"
      }
    },
    {
      "cell_type": "markdown",
      "source": [
        "1.WHAT IS PYTHON, AND WHY IS IT POPULAR                                        \n",
        "  >PYTHON IS a HIGH LEVEL, interpreted, object-oriented programing language known for its readability and ease of use. It was created by Guido van ROSSUM and first released in 1991.\n",
        "\n",
        "  >python is popular for:\n",
        "  >>1.Easy to read and understand :python has clean,english like syntax that makes it easy to write and read codes.\n",
        "  >>2. Interpreted language python :python code runs line by line, which simplifies debugging and testing.\n",
        "  >>3. object oriented programming language: support opp principal like classes and inheritance for modular, reusable code.\n",
        "  >>4. free and open source : python is freely available for use, and its source code can be modified and shared\n",
        "  >>5. versatile and Extensible :can be used in web, AI, data science, games,and extended with c/c++ code.\n",
        "  >>6. multi-platform : work across all major os like windows, macos, and linux without code changes.\n",
        "  >>7. Hundreds of libraries and framework : offers powerful libraries like NumPy, DJango, Tensorflow and faster devlopment.\n",
        "  >>8. Huge and active community : millions of users contribute tutorials,tools, and support for learners and developers."
      ],
      "metadata": {
        "id": "ouJ996Q2f51x"
      }
    },
    {
      "cell_type": "markdown",
      "source": [
        "2.What is interpreter in python ?\n",
        "  > interpreters are the computer program that will convert the source code or an high level language into intermediate code (machine level language).It is\n",
        "  also called translator  in programming terminology. Interpreters executes each line of statements slowly. this process is called Interpretation.\n",
        "\n",
        "  >**working of interpreter**\n",
        "\n",
        "  >> source code ---> interpreter--->Executable code---> source code....\n",
        "  >> You write python code (.py file).\n",
        "  >> The python interpreter reads one line at a time.\n",
        "  >> It translate that line into machine code and execute it immediately."
      ],
      "metadata": {
        "id": "8STbc33UqYP-"
      }
    },
    {
      "cell_type": "markdown",
      "source": [
        "3.What is pre-defined key word in python\n",
        "  >pre-defined key word in python are reserved word that have special meaning in language.You cannot use them in variable names, funtion names,or identifiers.\n",
        "\n",
        "  key points:\n",
        "   >1. Fixed meaning : keywords perform specific roles in the syntax e.g .,if, while, def.\n",
        "   >2. case-sensitive: True is valid but true is not.\n",
        "   >3. Cannot be redefined: You can't use tham for custom variable or function names\n",
        "    >Examples : if, else, elif, while, for, Break, continue, pass, def, return, lembda, class"
      ],
      "metadata": {
        "id": "0kVcqdKBvN-n"
      }
    },
    {
      "cell_type": "markdown",
      "source": [
        "4. can Keywords be used as variable names?\n",
        "  >No you cannot use variable names in python\n",
        "\n",
        "  Reason:\n",
        "  >Python keyword are reserved words that have special meaning in the language syntax. using tham variables name would confuse the interpreter.\n"
      ],
      "metadata": {
        "id": "9mSQ6dv2eupF"
      }
    },
    {
      "cell_type": "code",
      "source": [
        "#Example of mutable object\n",
        "fruit=['apple','banana']\n",
        "fruit.append ('orange')\n",
        "print(fruit)"
      ],
      "metadata": {
        "colab": {
          "base_uri": "https://localhost:8080/"
        },
        "id": "aSaASC4W99tW",
        "outputId": "5380f0e1-5392-456b-98f2-7b385d1b2936"
      },
      "execution_count": null,
      "outputs": [
        {
          "output_type": "stream",
          "name": "stdout",
          "text": [
            "['apple', 'banana', 'orange']\n"
          ]
        }
      ]
    },
    {
      "cell_type": "markdown",
      "source": [
        "6. Why are list mutable, but tuples are immutable?\n",
        "  > list are mutable :\n",
        "    >1. Designed for dynamic data: list are made data to store that change over time.\n",
        "    >2.Resizable in memory: python internally allocates flexible memory block for lists\n",
        "    >3.supports item assingnment: You can modify, add or remove elements after creation.\n",
        "    >4. used in frequent update : ideal for task like sorting, appending, or modifyng data.\n",
        "\n",
        "\n",
        "  > Tuple are immutable:\n",
        "   >1. Fixed- sized data structrure: once created, elements in a tuple cannot be changed.\n",
        "   >2. Memory optimization:  Tuple take up less memory and are slightly faster than lists.\n",
        "   >3. Hashable: Because they don't change tuple can be used as dictionary keys or set elements.\n",
        "   >4. Ensure data safety: immutability prevent accidental changes to critical data."
      ],
      "metadata": {
        "id": "4o0NwUlu_mHR"
      }
    },
    {
      "cell_type": "markdown",
      "source": [
        "7. What is the difference between \"==\" and \"is\" operators in python ?\n",
        "  >.\"==\" operator ( equality ) ( comparsion operator )\n",
        "  1. check if values are equal\n",
        "  2. compares the contents of two objects\n",
        "  3. Rweturns true if the value look the same\n",
        "\n",
        ">\"is\" operator (Ideantify )\n",
        ">> check if two variable point to the same object in memory\n",
        "2. Compare the identity ( memory address), not the value\n",
        "3. Return true if both refer to the exact same object"
      ],
      "metadata": {
        "id": "oRAdObYPFF9G"
      }
    },
    {
      "cell_type": "code",
      "source": [
        "# == Operator use\n",
        "a= [1, 2]\n",
        "b= [1, 2]\n",
        "print(a==b)# same values\n",
        "\n",
        "#"
      ],
      "metadata": {
        "id": "QtsBnLFkKMn9"
      },
      "execution_count": null,
      "outputs": []
    }
  ]
}
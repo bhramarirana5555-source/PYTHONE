{
 "cells": [
  {
   "cell_type": "code",
   "execution_count": null,
   "id": "7df02762",
   "metadata": {},
   "outputs": [],
   "source": [
    "Assignment 2: Data Types and Structures\n",
    "1. What are data structures, and why are they important ?\n",
    "Data structures are organized ways to store, manage, and retrieve data efficiently in a computer.\n",
    "Importance of Data Structure :\n",
    "Efficient Data Management :Help organize large amounts of data so it's easy to access and\n",
    "modify.\n",
    "Faster Searching & Sorting: Certain data structures allow faster operations.\n",
    "Memory Optimization: Help reduce memory usage by using optimal storage formats.\n",
    "Foundation for Algorithms: Most algorithms rely on data structures to work correctly and\n",
    "efficiently.\n",
    "Real-world Problem Solving: Useful in tasks like file systems, databases, social networks, etc.\n",
    "Helps in Decision Making: Choosing the right data structure can improve performance drastically.\n",
    "Examples: List,tuple,sets\n",
    "2. Explain the difference between mutable and immutable data types with examples\n",
    "Mutable:\n",
    "Objects that can be changed after they are created.\n",
    "No new memory location is created\n",
    "Example :list, dict, set"
   ]
  },
  {
   "cell_type": "code",
   "execution_count": null,
   "id": "09da4d30",
   "metadata": {},
   "outputs": [],
   "source": [
    "Example of Mutable\n",
    "my_list = [1, 2, 3]\n",
    "my_list[0] = 10\n",
    "print(my_list)\n",
    "Immutable:\n",
    "Objects that cannot be changed after they are created.\n",
    "Creation of new memory location at any changes\n",
    "Examples: int, float, str, tuple"
   ]
  },
  {
   "cell_type": "code",
   "execution_count": null,
   "id": "7dcbac9e",
   "metadata": {},
   "outputs": [],
   "source": [
    "Example of immutable\n",
    "t = (1, 2, 3)"
   ]
  },
  {
   "cell_type": "code",
   "execution_count": null,
   "id": "a4aa2e10",
   "metadata": {},
   "outputs": [],
   "source": [
    "t[0] = 10"
   ]
  },
  {
   "cell_type": "markdown",
   "id": "b6011723",
   "metadata": {},
   "source": [
    "This will raise a TypeError\n",
    "3. What are the main differences between lists and tuples in Python ?\n",
    "Difference bwtween List and tuple\n",
    "1. Mutability:Lists are mutable whereas tuples are immutable.\n",
    "This means you can change, add, or remove elements in a list, but you cannot modify a tuple after it's created.\n",
    "2. Syntax: Lists use square brackets [ ], whereas tuples use parentheses ( ).\n",
    "This means you define a list like [1, 2, 3] and a tuple like (1, 2, 3).\n",
    "3. Methods Available: Lists have many built-in methods, whereas *tuples *have very few.\n",
    "This means you can modify a list using methods like append(), pop(), or sort(), but tuples only support count()\n",
    "and index().\n",
    "4. Performance: Tuples are faster in performance than** lists**.CodeText8/9/25, 4:53 PM Assignment2.ipynb - Colab\n",
    "https://colab.research.google.com/drive/1PQhs10aalzmrYG1b8eYnkN94ozIJcrDO"
   ]
  },
  {
   "cell_type": "code",
   "execution_count": null,
   "id": "2ffc9f43",
   "metadata": {},
   "outputs": [],
   "source": [
    "scrollTo=W78FAPHSh48-&printMode=true 1/10\n",
    "This is because tuples are immutable and require less overhead, making them more efficient in fixed-size data\n",
    "operations.\n",
    "5. Memory Usage: Tuples use less memory than lists.\n",
    "Since tuples are fixed in size, they consume less memory than dynamic lists.\n",
    "6. Use Case: Lists are used when data can change, whereas tuples are used for fixed data.\n",
    "This means use lists for dynamic operations, and tuples when you want to protect data from modification.\n",
    "4. Describe how dictionaries store data .\n",
    "A dictionary in Python is a collection of key-value pairs, where each key is unique and is used to access its corresponding\n",
    "value.\n",
    "Dictionaries store data:\n",
    "A dictionary stores data as key-value pairs.\n",
    "The key is used to identify the data.\n",
    "The value is the data associated with that key.\n",
    "It allows for quick access, update, and deletion of data using keys.\n",
    "5. Why might you use a set instead of a list in Python ?\n",
    "Reasons to use set instead of list :\n",
    "1. No duplicate elements : A set automatically removes duplicates, while a list can store them.\n",
    "2. Faster lookups : Checking if an element exists in a set (in operation) is generally O(1), compared to O(n) for a list.\n",
    "3. Unordered collection : If you don’t care about the order of elements, sets are more efficient.\n",
    "4. Mathematical operations : Sets support union, intersection, and difference operations directly.\n",
    "5. Better for uniqueness checks : When you need only unique items, sets avoid manual duplicate removal.\n",
    "6. What is a string in Python, and how is it different from a list ?\n",
    "String: A string is a sequence of characters. Python treats anything inside quotes as a string. This includes letters, numbers,\n",
    "and symbols. Python has no character data type so single character is a string of length 1.\n",
    "String different from list:\n",
    "1. Data Type : A string stores only characters, while a list can store elements of any data type (numbers,\n",
    "strings, objects, etc.).\n",
    "2. Mutability : Strings are immutable, whereas lists are mutable .\n",
    "3. Element Type : Strings can contain only characters, but lists can have mixed data types.\n",
    "4. Modification : You cannot directly change a character in a string, but you can change, add, or remove\n",
    "elements in a list.\n",
    "5. Operations : Strings have text-specific methods (upper(), replace(), split()), while lists have collection-\n",
    "specific methods (append(), remove(), sort()).\n",
    "6. Representation : Strings are written inside quotes (' ', \" \"), while lists are written inside square brackets [ ].\n",
    "7. Usage : Strings are used for text data, while lists are used for storing a sequence of items.\n",
    "7. How do tuples ensure data integrity in Python ?\n",
    "Tuples ensure data integrity in Python mainly because they are immutable.\n",
    "Other reasons tuples ensure data integrity:\n",
    "1. Prevents accidental changes : Since tuples can’t be modified, your data stays exactly as it was when created.8/9/25, 4:53 PM Assignment2.ipynb - Colab\n",
    "https://colab.research.google.com/drive/1PQhs10aalzmrYG1b8eYnkN94ozIJcrDO"
   ]
  },
  {
   "cell_type": "code",
   "execution_count": null,
   "id": "b6f6eaed",
   "metadata": {},
   "outputs": [],
   "source": [
    "scrollTo=W78FAPHSh48-&printMode=true 2/10\n",
    "2. Reliable as constants : Tuples can store fixed data (like configuration values) that must remain the same throughout the\n",
    "program.\n",
    "3. Safe for keys in dictionaries : Their immutability allows them to be used as dictionary keys or stored in sets without risk\n",
    "of being altered.\n",
    "4. Predictable behavior : No unexpected changes in tuple data make debugging and tracking logic easier.\n",
    "5. Thread-safety : In multi-threaded programs, immutable data structures like tuples reduce the chance of data corruption\n",
    "from concurrent modifications.\n",
    "8. What is a hash table, and how does it relate to dictionaries in Python ?\n",
    "A hash table is a data structure that stores key–value pairs and uses a hash function to map each key to a specific index\n",
    "(bucket) in memory.\n",
    "Relation of Hashtable to dictionaries :\n",
    "1. In Python, a dictionary (dict) is implemented using a hash table.\n",
    "2. Keys in a dictionary are hashed internally, and their hash values decide where the corresponding values are\n",
    "stored in memory.\n",
    "3. Only immutable and hashable objects can be used as dictionary keys.\n",
    "4. Hash tables let dictionaries perform very fast lookups, even with large amounts of data.\n",
    "my_dict = {\"name\": \"Sakshi\", \"age\": 25}"
   ]
  },
  {
   "cell_type": "code",
   "execution_count": null,
   "id": "d2c8ffa3",
   "metadata": {},
   "outputs": [],
   "source": [
    "\"name\" is hashed internally → value 25 stored at a memory bucket\n",
    "print(my_dict[\"name\"])"
   ]
  },
  {
   "cell_type": "code",
   "execution_count": null,
   "id": "8ba3e4a0",
   "metadata": {},
   "outputs": [],
   "source": [
    "Output: Alice\n",
    "9. Can lists contain different data types in Python ?\n",
    "Yes, lists in Python can contain different data types in the same list.\n",
    "A list can hold integers, floats, strings, booleans, objects, even other lists — all mixed together.\n",
    "This is possible because Python lists are dynamic and store references to objects, not fixed-type elements.\n",
    "my_list = [10, \"Hello\", 3.14, True, [1, 2, 3]]\n",
    "print(my_list)\n",
    "10. Explain why strings are immutable in Python .\n",
    "Reasons String are immutable:\n",
    "1. Memory efficiency : Immutability allows Python to reuse identical string objects (string interning), saving memory.\n",
    "2. Hash consistency : Strings must stay unchanged so their hash value remains constant when used as dictionary or set\n",
    "keys.\n",
    "3. Thread-safety : Because strings can’t be modified, they can be shared between threads without risk of corruption.\n",
    "4. Predictable behavior : Fixed, unchangeable strings prevent accidental changes, making code more reliable.\n",
    "5. Performance optimization : Immutable strings can be stored and accessed in a way that speeds up certain operations.\n",
    "11. What advantages do dictionaries offer over lists for certain tasks ?\n",
    "Advantages do dictionaries offer over lists for certain tasks are:\n",
    "1. Faster lookups : Dictionaries provide average O(1) time complexity for accessing values by key, while lists take O(n) for\n",
    "searches.\n",
    "2. Key-based access : You can access data using meaningful keys instead of relying on numeric indexes.\n",
    "3. No need for manual searching : Values are retrieved directly by key without iterating through the entire collection.\n",
    "4. Unordered but organized : Data is stored in a way that’s easy to manage when you care about associations rather than\n",
    "order.8/9/25, 4:53 PM Assignment2.ipynb - Colab\n",
    "https://colab.research.google.com/drive/1PQhs10aalzmrYG1b8eYnkN94ozIJcrDO"
   ]
  },
  {
   "cell_type": "code",
   "execution_count": null,
   "id": "feb193a7",
   "metadata": {},
   "outputs": [],
   "source": [
    "scrollTo=W78FAPHSh48-&printMode=true 3/10\n",
    "5. Flexible keys and values : Keys can be any immutable type (string, number, tuple), and values can be any data type.\n",
    "6. Clear mapping of data : Perfect for storing real-world data with a clear “label →  value” relationship."
   ]
  },
  {
   "cell_type": "code",
   "execution_count": null,
   "id": "de3d6068",
   "metadata": {},
   "outputs": [],
   "source": [
    "List of [name, phone] pairs\n",
    "contacts_list = [[\"Alice\", \"1234\"], [\"Bob\", \"5678\" ], [\"Charlie\", \"9101\"]]"
   ]
  },
  {
   "cell_type": "code",
   "execution_count": null,
   "id": "9a8a3b99",
   "metadata": {},
   "outputs": [],
   "source": [
    "Find Bob's number\n",
    "for name, phone in contacts_list:\n",
    "    if name == \"Bob\":\n",
    "        print(phone)"
   ]
  },
  {
   "cell_type": "markdown",
   "id": "54eac213",
   "metadata": {},
   "source": [
    "Output: 5678\n",
    "        break"
   ]
  },
  {
   "cell_type": "code",
   "execution_count": null,
   "id": "3f993b4f",
   "metadata": {},
   "outputs": [],
   "source": [
    "Dictionary of name: phone pairs\n",
    "contacts_dict = {\"Alice\": \"1234\", \"Bob\": \"5678\", \" Charlie\": \"9101\"}"
   ]
  },
  {
   "cell_type": "code",
   "execution_count": null,
   "id": "bf86c5bc",
   "metadata": {},
   "outputs": [],
   "source": [
    "Find Bob's number\n",
    "print(contacts_dict[\"Bob\"])"
   ]
  },
  {
   "cell_type": "markdown",
   "id": "31e39fd1",
   "metadata": {},
   "source": [
    "Output: 5678\n",
    "Difference : Time Complexity of Dictionary is O(1) where as list is O(n).\n",
    "12. Describe a scenario where using a tuple would be preferable over a list.\n",
    "Scenario:\n",
    "Storing fixed GPS coordinates of a city in a program.\n",
    "Example:"
   ]
  },
  {
   "cell_type": "code",
   "execution_count": null,
   "id": "028a7ae9",
   "metadata": {},
   "outputs": [],
   "source": [
    "Latitude and Longitude of New York\n",
    "new_york_coordinates = (40.7128, -74.0060)\n",
    "Why tuple is preferable:\n",
    "1. The coordinates should never change during the program’s execution →  tuples are immutable, ensuring data integrity.\n",
    "2. Tuples can be used as dictionary keys if you need to store location-based data (lists cannot be keys).\n",
    "3. Slightly faster than lists for access, making them efficient for fixed datasets.\n",
    "13. How do sets handle duplicate values in Python ?\n",
    "Sets automatically remove duplicate values because they only store unique elements.\n",
    "When you try to add a duplicate to a set, Python ignores it silently.\n",
    "This is possible because sets use a hash table internally, where each element’s hash value must be unique.\n",
    "my_set = {1, 2, 2, 3, 3, 3}\n",
    "print(my_set) \n",
    "14. How does the “in” keyword work differently for lists and dictionaries ?\n",
    "The in keyword behaves differently for lists and dictionaries in Python:\n",
    "1.For lists \"in\" checks if a value exists anywhere in the list.\n",
    "numbers = [1, 2, 3, 4]\n",
    "print(3 in numbers)"
   ]
  },
  {
   "cell_type": "code",
   "execution_count": null,
   "id": "38364bca",
   "metadata": {},
   "outputs": [],
   "source": [
    "(checks values)\n",
    "print(5 in numbers)   \n",
    "2.For dictionaries – in checks if a key exists in the dictionary (not the value).\n",
    "person = {\"name\": \"Alice\", \"age\": 25}\n",
    "print(\"name\" in person)"
   ]
  },
  {
   "cell_type": "code",
   "execution_count": null,
   "id": "ebc8485c",
   "metadata": {},
   "outputs": [],
   "source": [
    "checks keys\n",
    "print(\"Alice\" in person)"
   ]
  },
  {
   "cell_type": "markdown",
   "id": "7fe75949",
   "metadata": {},
   "source": [
    "does not check values8/9/25, 4:53 PM Assignment2.ipynb - Colab\n",
    "https://colab.research.google.com/drive/1PQhs10aalzmrYG1b8eYnkN94ozIJcrDO"
   ]
  },
  {
   "cell_type": "code",
   "execution_count": null,
   "id": "0a3143b4",
   "metadata": {},
   "outputs": [],
   "source": [
    "scrollTo=W78FAPHSh48-&printMode=true 4/10\n",
    "15. Can you modify the elements of a tuple? Explain why or why not .\n",
    "No we cannot modify the elements of a tuple in Python.\n",
    "Reason:\n",
    "1. Tuples are immutable, meaning once they are created, their elements cannot be changed, added, or removed.\n",
    "2. This immutability ensures data integrity, allows tuples to be used as dictionary keys or stored in sets, and makes them\n",
    "more memory-efficient and thread-safe.\n",
    "t = (1, 2, 3)\n",
    "t[0] = 10"
   ]
  },
  {
   "cell_type": "markdown",
   "id": "cb80914f",
   "metadata": {},
   "source": [
    "TypeError: 'tuple' object does not sup port item assignment\n",
    "16. What is a nested dictionary, and give an example of its use case ?\n",
    "Nested Dictionary:\n",
    "1. A nested dictionary is a dictionary that contains another dictionary as one or more of its values.\n",
    "2. It’s used to store hierarchical or structured data in a compact, organized way."
   ]
  },
  {
   "cell_type": "code",
   "execution_count": null,
   "id": "7e004a47",
   "metadata": {},
   "outputs": [],
   "source": [
    "Example of usecase \n",
    "students = {\n",
    "    \"Alice\": {\"age\": 20, \"marks\": {\"Math\": 90, \"Sc ience\": 85}},\n",
    "    \"Bob\": {\"age\": 22, \"marks\": {\"Math\": 78, \"Scie nce\": 88}}\n",
    "}"
   ]
  },
  {
   "cell_type": "code",
   "execution_count": null,
   "id": "f6a7275f",
   "metadata": {},
   "outputs": [],
   "source": [
    "Access Bob's Science marks\n",
    "print(students[\"Bob\"][\"marks\"][\"Science\"])  \n",
    "17. Describe the time complexity of accessing elements in a dictionary.\n",
    "Accessing elements in a dictionary in Python has:\n",
    "1. Average case: O(1) : Constant time, because dictionaries use a hash table for key lookups.\n",
    "2. Worst case: O(n) : Happens rarely, only when many keys have the same hash value (hash collision) and Python has to\n",
    "search through them linearly.\n",
    "person = {\"name\": \"Alice\", \"age\": 25}\n",
    "print(person[\"age\"])"
   ]
  },
  {
   "cell_type": "code",
   "execution_count": null,
   "id": "218fc425",
   "metadata": {},
   "outputs": [],
   "source": [
    "O(1) average time\n",
    "18. In what situations are lists preferred over dictionaries ?\n",
    "Situations where lists are preferred over dictionaries:\n",
    "1. Order matters : When you need to preserve and work with the sequence of elements.\n",
    "2. No key-value mapping needed : When you only care about storing values, not associating them with unique keys.\n",
    "3. Allow duplicates : When you need to store the same value multiple times.\n",
    "4. Index-based access : When elements are best accessed by their position (index) rather than by a key.\n",
    "5. Small datasets : For small collections where the speed benefit of a dictionary is negligible.\n",
    "6. Iteration over values : When you want to loop through elements directly without worrying about keys.\n",
    "fruits = [\"apple\", \"banana\", \"orange\", \"banana\"] \n",
    "print(fruits[1]) \n",
    "19. Why are dictionaries considered unordered, and how does that affect data retrieval ?\n",
    "Dictionaries are considered unordered:\n",
    "1. Before Python 3.7, dictionaries did not guarantee that elements would be stored or iterated in the order they were\n",
    "inserted.8/9/25, 4:53 PM Assignment2.ipynb - Colab\n",
    "https://colab.research.google.com/drive/1PQhs10aalzmrYG1b8eYnkN94ozIJcrDO"
   ]
  },
  {
   "cell_type": "code",
   "execution_count": null,
   "id": "85c39d95",
   "metadata": {},
   "outputs": [],
   "source": [
    "scrollTo=W78FAPHSh48-&printMode=true 5/10\n",
    "2. This is because dictionaries are implemented using a hash table, where the storage location of each key-value pair\n",
    "depends on the key’s hash value, not its position.\n",
    "Effect on data retrieval\n",
    "1. Key-based retrieval is unaffected we can always access a value directly using its key in O(1) time, regardless of order.\n",
    "2. However, iteration order was unpredictable in older versions of Python, meaning looping over a dictionary could produce\n",
    "elements in any sequence.\n",
    "3. From Python 3.7+, insertion order is preserved as an implementation detail but retrieval by key is still independent of\n",
    "order.\n",
    "20. Explain the difference between a list and a dictionary in terms of data retrieval.\n",
    "Difference between a list and a dictionary in terms of data retrieval:\n",
    "1. List : Retrieval is index-based\n",
    "We access elements using their position (0, 1, 2, …).\n",
    "Time complexity: O(1) for direct index access, but O(n) if you search for a value.\n",
    "fruits = [\"apple\", \"banana\", \"cherry\"]\n",
    "print(fruits[1])\n",
    "2. Dictionary : Retrieval is key-based\n",
    "We access values using unique keys, not positions.\n",
    "Time complexity: O(1) on average because of hashing.\n",
    "person = {\"name\": \"Alice\", \"age\": 25}\n",
    "print(person[\"age\"]) \n",
    "Practical Questions"
   ]
  },
  {
   "cell_type": "code",
   "execution_count": null,
   "id": "01875155",
   "metadata": {},
   "outputs": [],
   "source": [
    "1 Write a code to create a string with your name and print it\n",
    "name=input(\"Enter your name\" )\n",
    "print(f\"My name is {name}\")\n",
    "Enter your namesakshi\n",
    "My name is sakshi"
   ]
  },
  {
   "cell_type": "code",
   "execution_count": null,
   "id": "146a4d08",
   "metadata": {},
   "outputs": [],
   "source": [
    "2 Write a code to find the length of the string \" Hello World\"\n",
    "string=\"Hello World\"\n",
    "length=len(string)\n",
    "print(\"Length of string is :\" ,length)\n",
    "Length of string is : 11"
   ]
  },
  {
   "cell_type": "code",
   "execution_count": null,
   "id": "ab51b911",
   "metadata": {},
   "outputs": [],
   "source": [
    "3 Write a code to slice the first 3 characters fr om the string \"Python Programming\"\n",
    "string=\"Python Programming\"\n",
    "print(\"String after slicing first 3 character :\" ,string[3:])\n",
    "String after slicing first 3 character : hon Programming"
   ]
  },
  {
   "cell_type": "code",
   "execution_count": null,
   "id": "6319949e",
   "metadata": {},
   "outputs": [],
   "source": [
    "4 Write a code to convert the string \"hello\" to u ppercase\n",
    "string=\"hello\"\n",
    "print(\"String in uppercase\" ,string.upper ())\n",
    "String in uppercase HELLO"
   ]
  },
  {
   "cell_type": "code",
   "execution_count": null,
   "id": "c8fa8547",
   "metadata": {},
   "outputs": [],
   "source": [
    "5 Write a code to replace the word \"apple\" with \" orange\" in the string \"I like apple\"\n",
    "string=\"I like apple \"\n",
    "new_string=string.replace (\"apple\",\"orange\" )"
   ]
  },
  {
   "cell_type": "markdown",
   "id": "5772c3e8",
   "metadata": {},
   "source": [
    "replacing the word apple --->orange8/9/25, 4:53 PM Assignment2.ipynb - Colab\n",
    "https://colab.research.google.com/drive/1PQhs10aalzmrYG1b8eYnkN94ozIJcrDO"
   ]
  },
  {
   "cell_type": "code",
   "execution_count": null,
   "id": "da74a91b",
   "metadata": {},
   "outputs": [],
   "source": [
    "scrollTo=W78FAPHSh48-&printMode=true 6/10\n",
    "print(\"String before replacement :\" ,string)\n",
    "print(\"String after replacemnt: \" ,new_string )\n",
    "String before replacement : I like apple \n",
    "String after replacemnt:  I like orange"
   ]
  },
  {
   "cell_type": "code",
   "execution_count": null,
   "id": "7466f4b0",
   "metadata": {},
   "outputs": [],
   "source": [
    "6 Write a code to create a list with numbers 1 to  5 and print it\n",
    "list=[]"
   ]
  },
  {
   "cell_type": "markdown",
   "id": "22ad8f12",
   "metadata": {},
   "source": [
    "empty list\n",
    "for i in range(1,6):\n",
    "  list.append(i)"
   ]
  },
  {
   "cell_type": "code",
   "execution_count": null,
   "id": "8bca81b0",
   "metadata": {},
   "outputs": [],
   "source": [
    "appending elements\n",
    "print(\"List with number 1 to 5\" ,list)\n",
    "List with number 1 to 5 [1, 2, 3, 4, 5]"
   ]
  },
  {
   "cell_type": "code",
   "execution_count": null,
   "id": "80867b6d",
   "metadata": {},
   "outputs": [],
   "source": [
    "7 Write a code to append the number 10 to the lis t [1, 2, 3, 4]\n",
    "list=[1,2,3,4]\n",
    "print(\"List before appending 10 : \" ,list)\n",
    "list.append(10)"
   ]
  },
  {
   "cell_type": "code",
   "execution_count": null,
   "id": "18d97b4f",
   "metadata": {},
   "outputs": [],
   "source": [
    "adding 10 to list\n",
    "print(\"List after appending 10 : \"  ,list)\n",
    "List before appending 10 :  [1, 2, 3, 4]\n",
    "List after appending 10 :  [1, 2, 3, 4, 10]"
   ]
  },
  {
   "cell_type": "code",
   "execution_count": null,
   "id": "dd2d3129",
   "metadata": {},
   "outputs": [],
   "source": [
    "8 Write a code to remove the number 3 from the li st [1, 2, 3, 4, 5]\n",
    "list=[1,2,3,4,5]\n",
    "print(\"List before removing 3 : \" ,list)\n",
    "list.remove(3)"
   ]
  },
  {
   "cell_type": "code",
   "execution_count": null,
   "id": "9c7a7ae5",
   "metadata": {},
   "outputs": [],
   "source": [
    "remove 3 from list\n",
    "print(\"List after removing 3 : \"  ,list)\n",
    "List before removing :  [1, 2, 3, 4, 5]\n",
    "List after removing 3 :  [1, 2, 4, 5]"
   ]
  },
  {
   "cell_type": "code",
   "execution_count": null,
   "id": "96322b46",
   "metadata": {},
   "outputs": [],
   "source": [
    "9 Write a code to access the second element in th e list ['a', 'b', 'c', 'd']\n",
    "list=['a', 'b', 'c', 'd']\n",
    "'''acessing second element of list the indexing of  list starts with 0 . Therefore element at index 1  is second elemnt of list '''\n",
    "second_element= list[1]\n",
    "print(\"The second element in the list :\" ,second_element )\n",
    "The second element in the list : b"
   ]
  },
  {
   "cell_type": "code",
   "execution_count": null,
   "id": "cff8650e",
   "metadata": {},
   "outputs": [],
   "source": [
    "10  Write a code to reverse the list [10, 20, 30,  40, 50]\n",
    "list=[10, 20, 30, 40, 50]\n",
    "print(\"Orginal List\" ,list)\n",
    "print()"
   ]
  },
  {
   "cell_type": "code",
   "execution_count": null,
   "id": "4c801afd",
   "metadata": {},
   "outputs": [],
   "source": [
    "revrse inbuiltfunction\n",
    "list.reverse ()\n",
    "print(\"Reversed list by reverse function \" ,list)\n",
    "print()\n",
    "orginal_list= [10, 20, 30, 40, 50]\n",
    "print(\"Reversed list by slicing\" ,orginal_list [::-1])\n",
    "Orginal List [10, 20, 30, 40, 50]\n",
    "Reversed list by reverse function  [50, 40, 30, 20, 10]\n",
    "Reversed list by slicing [50, 40, 30, 20, 10]"
   ]
  },
  {
   "cell_type": "code",
   "execution_count": null,
   "id": "5617f5bb",
   "metadata": {},
   "outputs": [],
   "source": [
    "11 Write a code to create a tuple with the elemen ts 100, 200, 300 and print it\n",
    "tuple=(100, 200, 300 )\n",
    "print(\"Tuple :\" ,tuple)8/9/25, 4:53 PM Assignment2.ipynb - Colab\n",
    "https://colab.research.google.com/drive/1PQhs10aalzmrYG1b8eYnkN94ozIJcrDO"
   ]
  },
  {
   "cell_type": "code",
   "execution_count": null,
   "id": "b3e338cf",
   "metadata": {},
   "outputs": [],
   "source": [
    "scrollTo=W78FAPHSh48-&printMode=true 7/10\n",
    "Tuple : (100, 200, 300)"
   ]
  },
  {
   "cell_type": "code",
   "execution_count": null,
   "id": "ccd25b0a",
   "metadata": {},
   "outputs": [],
   "source": [
    "12 Write a code to access the second-to-last elem ent of the tuple ('red', 'green', 'blue', 'yellow' )\n",
    "tuple=('red', 'green', 'blue', 'yellow' )\n",
    "'''acessing second-to-last element of tuple the in dexing of list starts with -1 from last . Therefor e element at index -2 access the sec\n",
    "print(\"Accessing second-to-last element of tuple : \" ,tuple[-2])\n",
    "Accessing second-to-last element of tuple :  blue"
   ]
  },
  {
   "cell_type": "code",
   "execution_count": null,
   "id": "22e0b95f",
   "metadata": {},
   "outputs": [],
   "source": [
    "13 Write a code to find the minimum number in the  tuple (10, 20, 5, 15)\n",
    "tuple=(10, 20, 5, 15)\n",
    "print(\"Minimum value in the tuple :\" ,min(tuple))"
   ]
  },
  {
   "cell_type": "markdown",
   "id": "406abb86",
   "metadata": {},
   "source": [
    "min inbuilt function\n",
    "Minimum value in the tuple : 5"
   ]
  },
  {
   "cell_type": "code",
   "execution_count": null,
   "id": "1efad1f6",
   "metadata": {},
   "outputs": [],
   "source": [
    "14 Write a code to find the index of the element \"cat\" in the tuple ('dog', 'cat', 'rabbit')\n",
    "tuple=('dog', 'cat', 'rabbit' )\n",
    "print(\"index of the cat : \",tuple.index(\"cat\"))"
   ]
  },
  {
   "cell_type": "markdown",
   "id": "a201f8d4",
   "metadata": {},
   "source": [
    "index fetch the index of elements\n",
    "index of the cat : 1"
   ]
  },
  {
   "cell_type": "code",
   "execution_count": null,
   "id": "4fede396",
   "metadata": {},
   "outputs": [],
   "source": [
    "15 Write a code to create a tuple containing thre e different fruits and check if \"kiwi\" is in it\n",
    "tuple1 = (\"banana\"  , \"peaches\" , \"apple\")\n",
    "tuple2= (\"buleberry\"  , \"kiwi\", \"grapes\"  )\n",
    "result1= \"kiwi\" in tuple1\n",
    "result2= \"kiwi\" in tuple2\n",
    "print(\"Tuple1 contain kiwi :\" ,result1)\n",
    "print(\"Tuple2 contain kiwi :\" ,result2)\n",
    "Tuple1 contain kiwi : False\n",
    "Tuple2 contain kiwi : True"
   ]
  },
  {
   "cell_type": "code",
   "execution_count": null,
   "id": "2bea9698",
   "metadata": {},
   "outputs": [],
   "source": [
    "16  Write a code to create a set with the element s 'a', 'b', 'c' and print it\n",
    "set={\"a\",\"b\",\"c\"}\n",
    "print(\"Set\",set)\n",
    "Set {'c', 'a', 'b'}"
   ]
  },
  {
   "cell_type": "code",
   "execution_count": null,
   "id": "54b19492",
   "metadata": {},
   "outputs": [],
   "source": [
    "17 Write a code to clear all elements from the se t {1, 2, 3, 4, 5}.\n",
    "set={1, 2, 3, 4, 5}\n",
    "print(\"Before clearing the set: \"  ,set)"
   ]
  },
  {
   "cell_type": "code",
   "execution_count": null,
   "id": "910e17d0",
   "metadata": {},
   "outputs": [],
   "source": [
    "clear it empty the set\n",
    "set=set.clear()\n",
    "print(\"After clearing the set: \" ,set)\n",
    "Before clearing the set:  {1, 2, 3, 4, 5}\n",
    "After clearing the set:  None"
   ]
  },
  {
   "cell_type": "code",
   "execution_count": null,
   "id": "8a26b426",
   "metadata": {},
   "outputs": [],
   "source": [
    "18  Write a code to remove the element 4 from the  set {1, 2, 3, 4}.\n",
    "my_set = {1, 2, 3, 4}\n",
    "print(\"Before removing 4 from the set:\" , my_set)"
   ]
  },
  {
   "cell_type": "code",
   "execution_count": null,
   "id": "ba81d6f6",
   "metadata": {},
   "outputs": [],
   "source": [
    "remove the element\n",
    "my_set.remove (4)\n",
    "print(\"After removing 4 from the set:\" , my_set)\n",
    "Before removing 4 from the set: {1, 2, 3, 4}\n",
    "After removing 4 from the set: {1, 2, 3}"
   ]
  },
  {
   "cell_type": "code",
   "execution_count": null,
   "id": "0c045f92",
   "metadata": {},
   "outputs": [],
   "source": [
    "19 Write a code to find the union of two sets {1,  2, 3} and {3, 4, 5}\n",
    "set1={1, 2, 3}\n",
    "set2={3, 4, 5}"
   ]
  },
  {
   "cell_type": "markdown",
   "id": "46b7ec18",
   "metadata": {},
   "source": [
    "using union function  returns unquie element of s et8/9/25, 4:53 PM Assignment2.ipynb - Colab\n",
    "https://colab.research.google.com/drive/1PQhs10aalzmrYG1b8eYnkN94ozIJcrDO"
   ]
  },
  {
   "cell_type": "code",
   "execution_count": null,
   "id": "3de3f711",
   "metadata": {},
   "outputs": [],
   "source": [
    "scrollTo=W78FAPHSh48-&printMode=true 8/10\n",
    "print(\"Union of set with union fuction :\" ,set1.union (set2))"
   ]
  },
  {
   "cell_type": "code",
   "execution_count": null,
   "id": "d752af09",
   "metadata": {},
   "outputs": [],
   "source": [
    "union with \"| \"\n",
    "print(\"Union of set with '|':\" ,set1|set2 )\n",
    "Union of set with union fuction : {1, 2, 3, 4, 5}\n",
    "Union of set with '|': {1, 2, 3, 4, 5}"
   ]
  },
  {
   "cell_type": "code",
   "execution_count": null,
   "id": "881f9e2d",
   "metadata": {},
   "outputs": [],
   "source": [
    "20  Write a code to find the intersection of two sets {1, 2, 3} and {2, 3, 4}\n",
    "set1={1, 2, 3}\n",
    "set2={2, 3, 4}"
   ]
  },
  {
   "cell_type": "code",
   "execution_count": null,
   "id": "f6fbe95d",
   "metadata": {},
   "outputs": [],
   "source": [
    "using intersection function  returns common eleme nt of set\n",
    "print(\"Intersection of set with intersection function :\" ,set1.intersection (set2))"
   ]
  },
  {
   "cell_type": "code",
   "execution_count": null,
   "id": "1cc3dd53",
   "metadata": {},
   "outputs": [],
   "source": [
    "Intersection with \"& \"\n",
    "print(\"Intersection of set with '&' :\" ,set1&set2 )\n",
    "Intersection of set with intersection function : {2, 3}\n",
    "Intersection of set with '&' : {2, 3}"
   ]
  },
  {
   "cell_type": "code",
   "execution_count": null,
   "id": "aa2b63cf",
   "metadata": {},
   "outputs": [],
   "source": [
    "21  Write a code to create a dictionary with the keys \"name\", \"age\", and \"city\", and print it\n",
    "my_dictionary= {\"name\":\"Sakshi\" ,\"age\":\"21\",\"city\":\"nagpur\" }\n",
    "print(\"Dictionary :\" ,my_dictionary )\n",
    "Dictionary : {'name': 'Sakshi', 'age': '21', 'city': 'nagpur'}"
   ]
  },
  {
   "cell_type": "code",
   "execution_count": null,
   "id": "252f4157",
   "metadata": {},
   "outputs": [],
   "source": [
    "22 Write a code to add a new key-value pair \"coun try\": \"USA\" to the dictionary {'name': 'John', 'ag e': 25}\n",
    "my_dictionary= {'name': 'John', 'age': 25}\n",
    "print(\"Dictionary before adding new key-value pair :\" ,my_dictionary )\n",
    "my_dictionary [\"country\" ] = \"USA\""
   ]
  },
  {
   "cell_type": "code",
   "execution_count": null,
   "id": "40ad918c",
   "metadata": {},
   "outputs": [],
   "source": [
    "adding element\n",
    "print(\"Dictionary after adding new key-value pair :\" ,my_dictionary )\n",
    "Dictionary before adding new key-value pair : {'name': 'John', 'age': 25}\n",
    "Dictionary after adding new key-value pair : {'name': 'John', 'age': 25, 'country': 'USA'}"
   ]
  },
  {
   "cell_type": "code",
   "execution_count": null,
   "id": "89cbdbcd",
   "metadata": {},
   "outputs": [],
   "source": [
    "23 Write a code to access the value associated wi th the key \"name\" in the dictionary {'name': 'Alic e', 'age': 30}\n",
    "my_dictionary= {'name': 'Alice', 'age': 30}\n",
    "print(\"The value associated with keyword name :\" ,my_dictionary.get (\"name\"))"
   ]
  },
  {
   "cell_type": "markdown",
   "id": "0011825c",
   "metadata": {},
   "source": [
    "accessing the value associated with the key \"name \"\n",
    "The value associated with keyword name : Alice"
   ]
  },
  {
   "cell_type": "code",
   "execution_count": null,
   "id": "2e28b679",
   "metadata": {},
   "outputs": [],
   "source": [
    "Write a code to remove the key \"age\" from the di ctionary {'name': 'Bob', 'age': 22, 'city': 'New Y ork'}\n",
    "my_dict= {'name': 'Bob', 'age': 22, 'city': 'New York' }\n",
    "print(\"Before removing age :\" ,my_dict)"
   ]
  },
  {
   "cell_type": "code",
   "execution_count": null,
   "id": "09f17db7",
   "metadata": {},
   "outputs": [],
   "source": [
    "removing age\n",
    "my_dict.pop (\"age\")\n",
    "print(\"After removing age :\" ,my_dict)\n",
    "Before removing age : {'name': 'Bob', 'age': 22, 'city': 'New York'}\n",
    "After removing age : {'name': 'Bob', 'city': 'New York'}"
   ]
  },
  {
   "cell_type": "code",
   "execution_count": null,
   "id": "020601ee",
   "metadata": {},
   "outputs": [],
   "source": [
    "25 Write a code to check if the key \"city\" exists  in the dictionary {'name': 'Alice', 'city': 'Pari s'}.\n",
    "my_dict= {'name': 'Alice', 'city': 'Paris'}\n",
    "if \"city\" in my_dict.keys ():\n",
    "  print(\"Dictionary contain city\" )\n",
    "else:\n",
    "  print(\"False\")\n",
    "Dictionary contain city"
   ]
  },
  {
   "cell_type": "code",
   "execution_count": null,
   "id": "c43482b9",
   "metadata": {},
   "outputs": [],
   "source": [
    "26 Write a code to create a list, a tuple, and a dictionary, and print them all\n",
    "my_list= [1,2,4,\"hello\",False,True]\n",
    "my_tuple= (5,3,6)\n",
    "my_dict= {'name': 'Alice', 'city': 'Paris'}\n",
    "print(f\"my_list : {my_list} and type is {type(my_list)}\")\n",
    "print()\n",
    "print(f\"my_tuple : {my_tuple } and type is {type(my_tuple )}\")8/9/25, 4:53 PM Assignment2.ipynb - Colab\n",
    "https://colab.research.google.com/drive/1PQhs10aalzmrYG1b8eYnkN94ozIJcrDO"
   ]
  },
  {
   "cell_type": "code",
   "execution_count": null,
   "id": "d771ed70",
   "metadata": {},
   "outputs": [],
   "source": [
    "scrollTo=W78FAPHSh48-&printMode=true 9/10\n",
    "print()\n",
    "print(f\"mydict :{mydict} and type is {type(mydict)}\")\n",
    "my_list :[1, 2, 4, 'hello', False, True] and type is <class 'list'>\n",
    "my_tuple :(5, 3, 6) and type is <class 'tuple'>\n",
    "my_dict :{'name': 'Alice', 'city': 'Paris'} and type is <class 'dict'>"
   ]
  },
  {
   "cell_type": "code",
   "execution_count": null,
   "id": "d7fe2aad",
   "metadata": {},
   "outputs": [],
   "source": [
    "27 Write a code to create a list of 5 random numb ers between 1 and 100, sort it in ascending order,  and print the result .(replaced)\n",
    "import random"
   ]
  },
  {
   "cell_type": "code",
   "execution_count": null,
   "id": "4b030742",
   "metadata": {},
   "outputs": [],
   "source": [
    "List with random 5 numbers\n",
    "random_numbers = random.sample (range(1, 101), 5)"
   ]
  },
  {
   "cell_type": "code",
   "execution_count": null,
   "id": "b57384f8",
   "metadata": {},
   "outputs": [],
   "source": [
    "sort function sort the list in ascending order\n",
    "random_numbers.sort ()print(\"list before sorting :\" ,random_numbers )\n",
    "print(\"Sorted random numbers:\" , random_numbers )\n",
    "list before sorting : [66, 74, 9, 55, 7]\n",
    "Sorted random numbers: [7, 9, 55, 66, 74]"
   ]
  },
  {
   "cell_type": "code",
   "execution_count": null,
   "id": "e51cc23b",
   "metadata": {},
   "outputs": [],
   "source": [
    "28 Write a code to create a list with strings and  print the element at the third index\n",
    "my_list = [\"apple\", \"banana\" , \"cherry\" , \"date\", \"blueberry\" ]\n",
    "print(\"Element at index 3:\" , my_list [3])"
   ]
  },
  {
   "cell_type": "code",
   "execution_count": null,
   "id": "e8eea354",
   "metadata": {},
   "outputs": [],
   "source": [
    "29  Write a code to combine two dictionaries into  one and print the result.\n",
    "dict1={'name': 'Alice', 'city': 'Paris'}\n",
    "dict2 ={'age':24,'gender' :'Male'}\n",
    "print(\"Dict 1 : \" ,dict1)\n",
    "print(\"Dict 2 : \" ,dict2)\n",
    "print()"
   ]
  },
  {
   "cell_type": "code",
   "execution_count": null,
   "id": "e567efeb",
   "metadata": {},
   "outputs": [],
   "source": [
    "update function extend or combine the list\n",
    "dict1.update (dict2)\n",
    "print(\"Dictionary 1 after combing both dictionary :\"  , dict1)\n",
    "Dict 1 :  {'name': 'Alice', 'city': 'Paris'}\n",
    "Dict 2 :  {'age': 24, 'gender': 'Male'}\n",
    "Dictionary 1 after combing both dictionary : {'name': 'Alice', 'city': 'Paris', 'age': 24, 'gender': 'Male'}"
   ]
  },
  {
   "cell_type": "code",
   "execution_count": null,
   "id": "7c6c11f7",
   "metadata": {},
   "outputs": [],
   "source": [
    "30 Write a code to convert a list of strings into  a set.\n",
    "my_list= [\"Ajay\",\"Samiksha\" ,\"David\",\"name\" ,\"name\",\"Samiksha\" ]\n",
    "s=set(my_list)\n",
    "print(\"List :\" ,my_list)\n",
    "print()\n",
    "print(\"List after converted into set\" ,s)\n",
    "List : ['Ajay', 'Samiksha', 'David', 'name', 'name', 'Samiksha']\n",
    "List after converted into set {'Ajay', 'David', 'Samiksha', 'name'}8/9/25, 4:53 PM Assignment2.ipynb - Colab\n",
    "https://colab.research.google.com/drive/1PQhs10aalzmrYG1b8eYnkN94ozIJcrDO"
   ]
  },
  {
   "cell_type": "code",
   "execution_count": null,
   "id": "6e4f43e4",
   "metadata": {},
   "outputs": [],
   "source": [
    "scrollTo=W78FAPHSh48-&printMode=true 10/10"
   ]
  }
 ],
 "metadata": {},
 "nbformat": 4,
 "nbformat_minor": 5
}
